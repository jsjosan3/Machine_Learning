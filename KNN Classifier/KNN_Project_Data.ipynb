{
 "cells": [
  {
   "cell_type": "code",
   "execution_count": 1,
   "metadata": {},
   "outputs": [],
   "source": [
    "import numpy as np\n",
    "import pandas as pd"
   ]
  },
  {
   "cell_type": "code",
   "execution_count": 2,
   "metadata": {},
   "outputs": [],
   "source": [
    "import matplotlib.pyplot as plt\n",
    "import seaborn as sns \n",
    "%matplotlib inline"
   ]
  },
  {
   "cell_type": "code",
   "execution_count": 3,
   "metadata": {},
   "outputs": [],
   "source": [
    "df=pd.read_csv('KNN_Project_Data')"
   ]
  },
  {
   "cell_type": "code",
   "execution_count": 4,
   "metadata": {},
   "outputs": [
    {
     "data": {
      "text/plain": [
       "(1000, 11)"
      ]
     },
     "execution_count": 4,
     "metadata": {},
     "output_type": "execute_result"
    }
   ],
   "source": [
    "df.shape"
   ]
  },
  {
   "cell_type": "code",
   "execution_count": 5,
   "metadata": {},
   "outputs": [
    {
     "data": {
      "text/html": [
       "<div>\n",
       "<style scoped>\n",
       "    .dataframe tbody tr th:only-of-type {\n",
       "        vertical-align: middle;\n",
       "    }\n",
       "\n",
       "    .dataframe tbody tr th {\n",
       "        vertical-align: top;\n",
       "    }\n",
       "\n",
       "    .dataframe thead th {\n",
       "        text-align: right;\n",
       "    }\n",
       "</style>\n",
       "<table border=\"1\" class=\"dataframe\">\n",
       "  <thead>\n",
       "    <tr style=\"text-align: right;\">\n",
       "      <th></th>\n",
       "      <th>XVPM</th>\n",
       "      <th>GWYH</th>\n",
       "      <th>TRAT</th>\n",
       "      <th>TLLZ</th>\n",
       "      <th>IGGA</th>\n",
       "      <th>HYKR</th>\n",
       "      <th>EDFS</th>\n",
       "      <th>GUUB</th>\n",
       "      <th>MGJM</th>\n",
       "      <th>JHZC</th>\n",
       "      <th>TARGET CLASS</th>\n",
       "    </tr>\n",
       "  </thead>\n",
       "  <tbody>\n",
       "    <tr>\n",
       "      <th>0</th>\n",
       "      <td>1636.670614</td>\n",
       "      <td>817.988525</td>\n",
       "      <td>2565.995189</td>\n",
       "      <td>358.347163</td>\n",
       "      <td>550.417491</td>\n",
       "      <td>1618.870897</td>\n",
       "      <td>2147.641254</td>\n",
       "      <td>330.727893</td>\n",
       "      <td>1494.878631</td>\n",
       "      <td>845.136088</td>\n",
       "      <td>0</td>\n",
       "    </tr>\n",
       "    <tr>\n",
       "      <th>1</th>\n",
       "      <td>1013.402760</td>\n",
       "      <td>577.587332</td>\n",
       "      <td>2644.141273</td>\n",
       "      <td>280.428203</td>\n",
       "      <td>1161.873391</td>\n",
       "      <td>2084.107872</td>\n",
       "      <td>853.404981</td>\n",
       "      <td>447.157619</td>\n",
       "      <td>1193.032521</td>\n",
       "      <td>861.081809</td>\n",
       "      <td>1</td>\n",
       "    </tr>\n",
       "    <tr>\n",
       "      <th>2</th>\n",
       "      <td>1300.035501</td>\n",
       "      <td>820.518697</td>\n",
       "      <td>2025.854469</td>\n",
       "      <td>525.562292</td>\n",
       "      <td>922.206261</td>\n",
       "      <td>2552.355407</td>\n",
       "      <td>818.676686</td>\n",
       "      <td>845.491492</td>\n",
       "      <td>1968.367513</td>\n",
       "      <td>1647.186291</td>\n",
       "      <td>1</td>\n",
       "    </tr>\n",
       "    <tr>\n",
       "      <th>3</th>\n",
       "      <td>1059.347542</td>\n",
       "      <td>1066.866418</td>\n",
       "      <td>612.000041</td>\n",
       "      <td>480.827789</td>\n",
       "      <td>419.467495</td>\n",
       "      <td>685.666983</td>\n",
       "      <td>852.867810</td>\n",
       "      <td>341.664784</td>\n",
       "      <td>1154.391368</td>\n",
       "      <td>1450.935357</td>\n",
       "      <td>0</td>\n",
       "    </tr>\n",
       "    <tr>\n",
       "      <th>4</th>\n",
       "      <td>1018.340526</td>\n",
       "      <td>1313.679056</td>\n",
       "      <td>950.622661</td>\n",
       "      <td>724.742174</td>\n",
       "      <td>843.065903</td>\n",
       "      <td>1370.554164</td>\n",
       "      <td>905.469453</td>\n",
       "      <td>658.118202</td>\n",
       "      <td>539.459350</td>\n",
       "      <td>1899.850792</td>\n",
       "      <td>0</td>\n",
       "    </tr>\n",
       "  </tbody>\n",
       "</table>\n",
       "</div>"
      ],
      "text/plain": [
       "          XVPM         GWYH         TRAT        TLLZ         IGGA  \\\n",
       "0  1636.670614   817.988525  2565.995189  358.347163   550.417491   \n",
       "1  1013.402760   577.587332  2644.141273  280.428203  1161.873391   \n",
       "2  1300.035501   820.518697  2025.854469  525.562292   922.206261   \n",
       "3  1059.347542  1066.866418   612.000041  480.827789   419.467495   \n",
       "4  1018.340526  1313.679056   950.622661  724.742174   843.065903   \n",
       "\n",
       "          HYKR         EDFS        GUUB         MGJM         JHZC  \\\n",
       "0  1618.870897  2147.641254  330.727893  1494.878631   845.136088   \n",
       "1  2084.107872   853.404981  447.157619  1193.032521   861.081809   \n",
       "2  2552.355407   818.676686  845.491492  1968.367513  1647.186291   \n",
       "3   685.666983   852.867810  341.664784  1154.391368  1450.935357   \n",
       "4  1370.554164   905.469453  658.118202   539.459350  1899.850792   \n",
       "\n",
       "   TARGET CLASS  \n",
       "0             0  \n",
       "1             1  \n",
       "2             1  \n",
       "3             0  \n",
       "4             0  "
      ]
     },
     "execution_count": 5,
     "metadata": {},
     "output_type": "execute_result"
    }
   ],
   "source": [
    "df.head()"
   ]
  },
  {
   "cell_type": "code",
   "execution_count": 6,
   "metadata": {},
   "outputs": [
    {
     "name": "stdout",
     "output_type": "stream",
     "text": [
      "<class 'pandas.core.frame.DataFrame'>\n",
      "RangeIndex: 1000 entries, 0 to 999\n",
      "Data columns (total 11 columns):\n",
      " #   Column        Non-Null Count  Dtype  \n",
      "---  ------        --------------  -----  \n",
      " 0   XVPM          1000 non-null   float64\n",
      " 1   GWYH          1000 non-null   float64\n",
      " 2   TRAT          1000 non-null   float64\n",
      " 3   TLLZ          1000 non-null   float64\n",
      " 4   IGGA          1000 non-null   float64\n",
      " 5   HYKR          1000 non-null   float64\n",
      " 6   EDFS          1000 non-null   float64\n",
      " 7   GUUB          1000 non-null   float64\n",
      " 8   MGJM          1000 non-null   float64\n",
      " 9   JHZC          1000 non-null   float64\n",
      " 10  TARGET CLASS  1000 non-null   int64  \n",
      "dtypes: float64(10), int64(1)\n",
      "memory usage: 86.1 KB\n"
     ]
    }
   ],
   "source": [
    "df.info()"
   ]
  },
  {
   "cell_type": "code",
   "execution_count": 7,
   "metadata": {},
   "outputs": [
    {
     "data": {
      "text/html": [
       "<div>\n",
       "<style scoped>\n",
       "    .dataframe tbody tr th:only-of-type {\n",
       "        vertical-align: middle;\n",
       "    }\n",
       "\n",
       "    .dataframe tbody tr th {\n",
       "        vertical-align: top;\n",
       "    }\n",
       "\n",
       "    .dataframe thead th {\n",
       "        text-align: right;\n",
       "    }\n",
       "</style>\n",
       "<table border=\"1\" class=\"dataframe\">\n",
       "  <thead>\n",
       "    <tr style=\"text-align: right;\">\n",
       "      <th></th>\n",
       "      <th>count</th>\n",
       "      <th>mean</th>\n",
       "      <th>std</th>\n",
       "      <th>min</th>\n",
       "      <th>25%</th>\n",
       "      <th>50%</th>\n",
       "      <th>75%</th>\n",
       "      <th>max</th>\n",
       "    </tr>\n",
       "  </thead>\n",
       "  <tbody>\n",
       "    <tr>\n",
       "      <th>XVPM</th>\n",
       "      <td>1000.0</td>\n",
       "      <td>1055.071157</td>\n",
       "      <td>370.980193</td>\n",
       "      <td>21.17</td>\n",
       "      <td>767.413366</td>\n",
       "      <td>1045.904805</td>\n",
       "      <td>1326.065178</td>\n",
       "      <td>2117.0</td>\n",
       "    </tr>\n",
       "    <tr>\n",
       "      <th>GWYH</th>\n",
       "      <td>1000.0</td>\n",
       "      <td>991.851567</td>\n",
       "      <td>392.278890</td>\n",
       "      <td>21.72</td>\n",
       "      <td>694.859326</td>\n",
       "      <td>978.355081</td>\n",
       "      <td>1275.528770</td>\n",
       "      <td>2172.0</td>\n",
       "    </tr>\n",
       "    <tr>\n",
       "      <th>TRAT</th>\n",
       "      <td>1000.0</td>\n",
       "      <td>1529.373525</td>\n",
       "      <td>640.286092</td>\n",
       "      <td>31.80</td>\n",
       "      <td>1062.600806</td>\n",
       "      <td>1522.507269</td>\n",
       "      <td>1991.128626</td>\n",
       "      <td>3180.0</td>\n",
       "    </tr>\n",
       "    <tr>\n",
       "      <th>TLLZ</th>\n",
       "      <td>1000.0</td>\n",
       "      <td>495.107156</td>\n",
       "      <td>142.789188</td>\n",
       "      <td>8.45</td>\n",
       "      <td>401.788135</td>\n",
       "      <td>500.197421</td>\n",
       "      <td>600.525709</td>\n",
       "      <td>845.0</td>\n",
       "    </tr>\n",
       "    <tr>\n",
       "      <th>IGGA</th>\n",
       "      <td>1000.0</td>\n",
       "      <td>940.590072</td>\n",
       "      <td>345.923136</td>\n",
       "      <td>17.93</td>\n",
       "      <td>700.763295</td>\n",
       "      <td>939.348662</td>\n",
       "      <td>1182.578166</td>\n",
       "      <td>1793.0</td>\n",
       "    </tr>\n",
       "    <tr>\n",
       "      <th>HYKR</th>\n",
       "      <td>1000.0</td>\n",
       "      <td>1550.637455</td>\n",
       "      <td>493.491988</td>\n",
       "      <td>27.93</td>\n",
       "      <td>1219.267077</td>\n",
       "      <td>1564.996551</td>\n",
       "      <td>1891.937040</td>\n",
       "      <td>2793.0</td>\n",
       "    </tr>\n",
       "    <tr>\n",
       "      <th>EDFS</th>\n",
       "      <td>1000.0</td>\n",
       "      <td>1561.003252</td>\n",
       "      <td>598.608517</td>\n",
       "      <td>31.96</td>\n",
       "      <td>1132.097865</td>\n",
       "      <td>1565.882879</td>\n",
       "      <td>1981.739411</td>\n",
       "      <td>3196.0</td>\n",
       "    </tr>\n",
       "    <tr>\n",
       "      <th>GUUB</th>\n",
       "      <td>1000.0</td>\n",
       "      <td>561.346117</td>\n",
       "      <td>247.357552</td>\n",
       "      <td>13.52</td>\n",
       "      <td>381.704293</td>\n",
       "      <td>540.420379</td>\n",
       "      <td>725.762027</td>\n",
       "      <td>1352.0</td>\n",
       "    </tr>\n",
       "    <tr>\n",
       "      <th>MGJM</th>\n",
       "      <td>1000.0</td>\n",
       "      <td>1089.067338</td>\n",
       "      <td>402.666953</td>\n",
       "      <td>23.21</td>\n",
       "      <td>801.849802</td>\n",
       "      <td>1099.087954</td>\n",
       "      <td>1369.923665</td>\n",
       "      <td>2321.0</td>\n",
       "    </tr>\n",
       "    <tr>\n",
       "      <th>JHZC</th>\n",
       "      <td>1000.0</td>\n",
       "      <td>1452.521629</td>\n",
       "      <td>568.132005</td>\n",
       "      <td>30.89</td>\n",
       "      <td>1059.499689</td>\n",
       "      <td>1441.554053</td>\n",
       "      <td>1864.405512</td>\n",
       "      <td>3089.0</td>\n",
       "    </tr>\n",
       "    <tr>\n",
       "      <th>TARGET CLASS</th>\n",
       "      <td>1000.0</td>\n",
       "      <td>0.500000</td>\n",
       "      <td>0.500250</td>\n",
       "      <td>0.00</td>\n",
       "      <td>0.000000</td>\n",
       "      <td>0.500000</td>\n",
       "      <td>1.000000</td>\n",
       "      <td>1.0</td>\n",
       "    </tr>\n",
       "  </tbody>\n",
       "</table>\n",
       "</div>"
      ],
      "text/plain": [
       "               count         mean         std    min          25%  \\\n",
       "XVPM          1000.0  1055.071157  370.980193  21.17   767.413366   \n",
       "GWYH          1000.0   991.851567  392.278890  21.72   694.859326   \n",
       "TRAT          1000.0  1529.373525  640.286092  31.80  1062.600806   \n",
       "TLLZ          1000.0   495.107156  142.789188   8.45   401.788135   \n",
       "IGGA          1000.0   940.590072  345.923136  17.93   700.763295   \n",
       "HYKR          1000.0  1550.637455  493.491988  27.93  1219.267077   \n",
       "EDFS          1000.0  1561.003252  598.608517  31.96  1132.097865   \n",
       "GUUB          1000.0   561.346117  247.357552  13.52   381.704293   \n",
       "MGJM          1000.0  1089.067338  402.666953  23.21   801.849802   \n",
       "JHZC          1000.0  1452.521629  568.132005  30.89  1059.499689   \n",
       "TARGET CLASS  1000.0     0.500000    0.500250   0.00     0.000000   \n",
       "\n",
       "                      50%          75%     max  \n",
       "XVPM          1045.904805  1326.065178  2117.0  \n",
       "GWYH           978.355081  1275.528770  2172.0  \n",
       "TRAT          1522.507269  1991.128626  3180.0  \n",
       "TLLZ           500.197421   600.525709   845.0  \n",
       "IGGA           939.348662  1182.578166  1793.0  \n",
       "HYKR          1564.996551  1891.937040  2793.0  \n",
       "EDFS          1565.882879  1981.739411  3196.0  \n",
       "GUUB           540.420379   725.762027  1352.0  \n",
       "MGJM          1099.087954  1369.923665  2321.0  \n",
       "JHZC          1441.554053  1864.405512  3089.0  \n",
       "TARGET CLASS     0.500000     1.000000     1.0  "
      ]
     },
     "execution_count": 7,
     "metadata": {},
     "output_type": "execute_result"
    }
   ],
   "source": [
    "df.describe().transpose()"
   ]
  },
  {
   "cell_type": "code",
   "execution_count": 8,
   "metadata": {},
   "outputs": [
    {
     "data": {
      "text/html": [
       "<div>\n",
       "<style scoped>\n",
       "    .dataframe tbody tr th:only-of-type {\n",
       "        vertical-align: middle;\n",
       "    }\n",
       "\n",
       "    .dataframe tbody tr th {\n",
       "        vertical-align: top;\n",
       "    }\n",
       "\n",
       "    .dataframe thead th {\n",
       "        text-align: right;\n",
       "    }\n",
       "</style>\n",
       "<table border=\"1\" class=\"dataframe\">\n",
       "  <thead>\n",
       "    <tr style=\"text-align: right;\">\n",
       "      <th></th>\n",
       "      <th>XVPM</th>\n",
       "      <th>GWYH</th>\n",
       "      <th>TRAT</th>\n",
       "      <th>TLLZ</th>\n",
       "      <th>IGGA</th>\n",
       "      <th>HYKR</th>\n",
       "      <th>EDFS</th>\n",
       "      <th>GUUB</th>\n",
       "      <th>MGJM</th>\n",
       "      <th>JHZC</th>\n",
       "      <th>TARGET CLASS</th>\n",
       "    </tr>\n",
       "  </thead>\n",
       "  <tbody>\n",
       "    <tr>\n",
       "      <th>XVPM</th>\n",
       "      <td>1.000000</td>\n",
       "      <td>-0.004816</td>\n",
       "      <td>-0.014219</td>\n",
       "      <td>0.055256</td>\n",
       "      <td>0.003688</td>\n",
       "      <td>0.001883</td>\n",
       "      <td>-0.023526</td>\n",
       "      <td>0.032118</td>\n",
       "      <td>-0.016091</td>\n",
       "      <td>0.026222</td>\n",
       "      <td>-0.079896</td>\n",
       "    </tr>\n",
       "    <tr>\n",
       "      <th>GWYH</th>\n",
       "      <td>-0.004816</td>\n",
       "      <td>1.000000</td>\n",
       "      <td>-0.224859</td>\n",
       "      <td>0.121623</td>\n",
       "      <td>-0.104795</td>\n",
       "      <td>0.042529</td>\n",
       "      <td>-0.102221</td>\n",
       "      <td>0.061553</td>\n",
       "      <td>0.039728</td>\n",
       "      <td>0.105532</td>\n",
       "      <td>-0.416168</td>\n",
       "    </tr>\n",
       "    <tr>\n",
       "      <th>TRAT</th>\n",
       "      <td>-0.014219</td>\n",
       "      <td>-0.224859</td>\n",
       "      <td>1.000000</td>\n",
       "      <td>-0.037726</td>\n",
       "      <td>0.124870</td>\n",
       "      <td>0.005462</td>\n",
       "      <td>0.118736</td>\n",
       "      <td>-0.073203</td>\n",
       "      <td>-0.067177</td>\n",
       "      <td>-0.119816</td>\n",
       "      <td>0.489347</td>\n",
       "    </tr>\n",
       "    <tr>\n",
       "      <th>TLLZ</th>\n",
       "      <td>0.055256</td>\n",
       "      <td>0.121623</td>\n",
       "      <td>-0.037726</td>\n",
       "      <td>1.000000</td>\n",
       "      <td>-0.005545</td>\n",
       "      <td>-0.004792</td>\n",
       "      <td>-0.063989</td>\n",
       "      <td>0.053958</td>\n",
       "      <td>0.094121</td>\n",
       "      <td>0.065143</td>\n",
       "      <td>-0.172029</td>\n",
       "    </tr>\n",
       "    <tr>\n",
       "      <th>IGGA</th>\n",
       "      <td>0.003688</td>\n",
       "      <td>-0.104795</td>\n",
       "      <td>0.124870</td>\n",
       "      <td>-0.005545</td>\n",
       "      <td>1.000000</td>\n",
       "      <td>0.003631</td>\n",
       "      <td>0.076304</td>\n",
       "      <td>-0.042134</td>\n",
       "      <td>-0.011688</td>\n",
       "      <td>-0.066895</td>\n",
       "      <td>0.295390</td>\n",
       "    </tr>\n",
       "    <tr>\n",
       "      <th>HYKR</th>\n",
       "      <td>0.001883</td>\n",
       "      <td>0.042529</td>\n",
       "      <td>0.005462</td>\n",
       "      <td>-0.004792</td>\n",
       "      <td>0.003631</td>\n",
       "      <td>1.000000</td>\n",
       "      <td>-0.007452</td>\n",
       "      <td>0.004891</td>\n",
       "      <td>0.025553</td>\n",
       "      <td>-0.006403</td>\n",
       "      <td>-0.015266</td>\n",
       "    </tr>\n",
       "    <tr>\n",
       "      <th>EDFS</th>\n",
       "      <td>-0.023526</td>\n",
       "      <td>-0.102221</td>\n",
       "      <td>0.118736</td>\n",
       "      <td>-0.063989</td>\n",
       "      <td>0.076304</td>\n",
       "      <td>-0.007452</td>\n",
       "      <td>1.000000</td>\n",
       "      <td>-0.071361</td>\n",
       "      <td>0.005865</td>\n",
       "      <td>-0.047928</td>\n",
       "      <td>0.281607</td>\n",
       "    </tr>\n",
       "    <tr>\n",
       "      <th>GUUB</th>\n",
       "      <td>0.032118</td>\n",
       "      <td>0.061553</td>\n",
       "      <td>-0.073203</td>\n",
       "      <td>0.053958</td>\n",
       "      <td>-0.042134</td>\n",
       "      <td>0.004891</td>\n",
       "      <td>-0.071361</td>\n",
       "      <td>1.000000</td>\n",
       "      <td>0.011507</td>\n",
       "      <td>0.061170</td>\n",
       "      <td>-0.174496</td>\n",
       "    </tr>\n",
       "    <tr>\n",
       "      <th>MGJM</th>\n",
       "      <td>-0.016091</td>\n",
       "      <td>0.039728</td>\n",
       "      <td>-0.067177</td>\n",
       "      <td>0.094121</td>\n",
       "      <td>-0.011688</td>\n",
       "      <td>0.025553</td>\n",
       "      <td>0.005865</td>\n",
       "      <td>0.011507</td>\n",
       "      <td>1.000000</td>\n",
       "      <td>0.014342</td>\n",
       "      <td>-0.098887</td>\n",
       "    </tr>\n",
       "    <tr>\n",
       "      <th>JHZC</th>\n",
       "      <td>0.026222</td>\n",
       "      <td>0.105532</td>\n",
       "      <td>-0.119816</td>\n",
       "      <td>0.065143</td>\n",
       "      <td>-0.066895</td>\n",
       "      <td>-0.006403</td>\n",
       "      <td>-0.047928</td>\n",
       "      <td>0.061170</td>\n",
       "      <td>0.014342</td>\n",
       "      <td>1.000000</td>\n",
       "      <td>-0.301725</td>\n",
       "    </tr>\n",
       "    <tr>\n",
       "      <th>TARGET CLASS</th>\n",
       "      <td>-0.079896</td>\n",
       "      <td>-0.416168</td>\n",
       "      <td>0.489347</td>\n",
       "      <td>-0.172029</td>\n",
       "      <td>0.295390</td>\n",
       "      <td>-0.015266</td>\n",
       "      <td>0.281607</td>\n",
       "      <td>-0.174496</td>\n",
       "      <td>-0.098887</td>\n",
       "      <td>-0.301725</td>\n",
       "      <td>1.000000</td>\n",
       "    </tr>\n",
       "  </tbody>\n",
       "</table>\n",
       "</div>"
      ],
      "text/plain": [
       "                  XVPM      GWYH      TRAT      TLLZ      IGGA      HYKR  \\\n",
       "XVPM          1.000000 -0.004816 -0.014219  0.055256  0.003688  0.001883   \n",
       "GWYH         -0.004816  1.000000 -0.224859  0.121623 -0.104795  0.042529   \n",
       "TRAT         -0.014219 -0.224859  1.000000 -0.037726  0.124870  0.005462   \n",
       "TLLZ          0.055256  0.121623 -0.037726  1.000000 -0.005545 -0.004792   \n",
       "IGGA          0.003688 -0.104795  0.124870 -0.005545  1.000000  0.003631   \n",
       "HYKR          0.001883  0.042529  0.005462 -0.004792  0.003631  1.000000   \n",
       "EDFS         -0.023526 -0.102221  0.118736 -0.063989  0.076304 -0.007452   \n",
       "GUUB          0.032118  0.061553 -0.073203  0.053958 -0.042134  0.004891   \n",
       "MGJM         -0.016091  0.039728 -0.067177  0.094121 -0.011688  0.025553   \n",
       "JHZC          0.026222  0.105532 -0.119816  0.065143 -0.066895 -0.006403   \n",
       "TARGET CLASS -0.079896 -0.416168  0.489347 -0.172029  0.295390 -0.015266   \n",
       "\n",
       "                  EDFS      GUUB      MGJM      JHZC  TARGET CLASS  \n",
       "XVPM         -0.023526  0.032118 -0.016091  0.026222     -0.079896  \n",
       "GWYH         -0.102221  0.061553  0.039728  0.105532     -0.416168  \n",
       "TRAT          0.118736 -0.073203 -0.067177 -0.119816      0.489347  \n",
       "TLLZ         -0.063989  0.053958  0.094121  0.065143     -0.172029  \n",
       "IGGA          0.076304 -0.042134 -0.011688 -0.066895      0.295390  \n",
       "HYKR         -0.007452  0.004891  0.025553 -0.006403     -0.015266  \n",
       "EDFS          1.000000 -0.071361  0.005865 -0.047928      0.281607  \n",
       "GUUB         -0.071361  1.000000  0.011507  0.061170     -0.174496  \n",
       "MGJM          0.005865  0.011507  1.000000  0.014342     -0.098887  \n",
       "JHZC         -0.047928  0.061170  0.014342  1.000000     -0.301725  \n",
       "TARGET CLASS  0.281607 -0.174496 -0.098887 -0.301725      1.000000  "
      ]
     },
     "execution_count": 8,
     "metadata": {},
     "output_type": "execute_result"
    }
   ],
   "source": [
    "df.corr()"
   ]
  },
  {
   "cell_type": "code",
   "execution_count": 43,
   "metadata": {},
   "outputs": [
    {
     "data": {
      "text/plain": [
       "<function matplotlib.pyplot.show(close=None, block=None)>"
      ]
     },
     "execution_count": 43,
     "metadata": {},
     "output_type": "execute_result"
    },
    {
     "data": {
      "image/png": "[encoded data removed]",
      "text/plain": [
       "<Figure size 576x576 with 1 Axes>"
      ]
     },
     "metadata": {
      "needs_background": "light"
     },
     "output_type": "display_data"
    }
   ],
   "source": [
    "plt.figure(figsize=(8,8))\n",
    "sns.heatmap(df.corr(), annot=True, cbar= False, cmap='')\n",
    "plt.show"
   ]
  },
  {
   "cell_type": "code",
   "execution_count": 10,
   "metadata": {},
   "outputs": [],
   "source": [
    "\n",
    "#sns.pairplot(df, hue='TARGET CLASS')\n",
    "#plt.show()"
   ]
  },
  {
   "cell_type": "code",
   "execution_count": 11,
   "metadata": {
    "scrolled": true
   },
   "outputs": [
    {
     "data": {
      "text/html": [
       "<div>\n",
       "<style scoped>\n",
       "    .dataframe tbody tr th:only-of-type {\n",
       "        vertical-align: middle;\n",
       "    }\n",
       "\n",
       "    .dataframe tbody tr th {\n",
       "        vertical-align: top;\n",
       "    }\n",
       "\n",
       "    .dataframe thead th {\n",
       "        text-align: right;\n",
       "    }\n",
       "</style>\n",
       "<table border=\"1\" class=\"dataframe\">\n",
       "  <thead>\n",
       "    <tr style=\"text-align: right;\">\n",
       "      <th></th>\n",
       "      <th>XVPM</th>\n",
       "      <th>GWYH</th>\n",
       "      <th>TRAT</th>\n",
       "      <th>TLLZ</th>\n",
       "      <th>IGGA</th>\n",
       "      <th>HYKR</th>\n",
       "      <th>EDFS</th>\n",
       "      <th>GUUB</th>\n",
       "      <th>MGJM</th>\n",
       "      <th>JHZC</th>\n",
       "    </tr>\n",
       "  </thead>\n",
       "  <tbody>\n",
       "    <tr>\n",
       "      <th>0</th>\n",
       "      <td>1636.670614</td>\n",
       "      <td>817.988525</td>\n",
       "      <td>2565.995189</td>\n",
       "      <td>358.347163</td>\n",
       "      <td>550.417491</td>\n",
       "      <td>1618.870897</td>\n",
       "      <td>2147.641254</td>\n",
       "      <td>330.727893</td>\n",
       "      <td>1494.878631</td>\n",
       "      <td>845.136088</td>\n",
       "    </tr>\n",
       "    <tr>\n",
       "      <th>1</th>\n",
       "      <td>1013.402760</td>\n",
       "      <td>577.587332</td>\n",
       "      <td>2644.141273</td>\n",
       "      <td>280.428203</td>\n",
       "      <td>1161.873391</td>\n",
       "      <td>2084.107872</td>\n",
       "      <td>853.404981</td>\n",
       "      <td>447.157619</td>\n",
       "      <td>1193.032521</td>\n",
       "      <td>861.081809</td>\n",
       "    </tr>\n",
       "    <tr>\n",
       "      <th>2</th>\n",
       "      <td>1300.035501</td>\n",
       "      <td>820.518697</td>\n",
       "      <td>2025.854469</td>\n",
       "      <td>525.562292</td>\n",
       "      <td>922.206261</td>\n",
       "      <td>2552.355407</td>\n",
       "      <td>818.676686</td>\n",
       "      <td>845.491492</td>\n",
       "      <td>1968.367513</td>\n",
       "      <td>1647.186291</td>\n",
       "    </tr>\n",
       "    <tr>\n",
       "      <th>3</th>\n",
       "      <td>1059.347542</td>\n",
       "      <td>1066.866418</td>\n",
       "      <td>612.000041</td>\n",
       "      <td>480.827789</td>\n",
       "      <td>419.467495</td>\n",
       "      <td>685.666983</td>\n",
       "      <td>852.867810</td>\n",
       "      <td>341.664784</td>\n",
       "      <td>1154.391368</td>\n",
       "      <td>1450.935357</td>\n",
       "    </tr>\n",
       "    <tr>\n",
       "      <th>4</th>\n",
       "      <td>1018.340526</td>\n",
       "      <td>1313.679056</td>\n",
       "      <td>950.622661</td>\n",
       "      <td>724.742174</td>\n",
       "      <td>843.065903</td>\n",
       "      <td>1370.554164</td>\n",
       "      <td>905.469453</td>\n",
       "      <td>658.118202</td>\n",
       "      <td>539.459350</td>\n",
       "      <td>1899.850792</td>\n",
       "    </tr>\n",
       "    <tr>\n",
       "      <th>...</th>\n",
       "      <td>...</td>\n",
       "      <td>...</td>\n",
       "      <td>...</td>\n",
       "      <td>...</td>\n",
       "      <td>...</td>\n",
       "      <td>...</td>\n",
       "      <td>...</td>\n",
       "      <td>...</td>\n",
       "      <td>...</td>\n",
       "      <td>...</td>\n",
       "    </tr>\n",
       "    <tr>\n",
       "      <th>995</th>\n",
       "      <td>1343.060600</td>\n",
       "      <td>1289.142057</td>\n",
       "      <td>407.307449</td>\n",
       "      <td>567.564764</td>\n",
       "      <td>1000.953905</td>\n",
       "      <td>919.602401</td>\n",
       "      <td>485.269059</td>\n",
       "      <td>668.007397</td>\n",
       "      <td>1124.772996</td>\n",
       "      <td>2127.628290</td>\n",
       "    </tr>\n",
       "    <tr>\n",
       "      <th>996</th>\n",
       "      <td>938.847057</td>\n",
       "      <td>1142.884331</td>\n",
       "      <td>2096.064295</td>\n",
       "      <td>483.242220</td>\n",
       "      <td>522.755771</td>\n",
       "      <td>1703.169782</td>\n",
       "      <td>2007.548635</td>\n",
       "      <td>533.514816</td>\n",
       "      <td>379.264597</td>\n",
       "      <td>567.200545</td>\n",
       "    </tr>\n",
       "    <tr>\n",
       "      <th>997</th>\n",
       "      <td>921.994822</td>\n",
       "      <td>607.996901</td>\n",
       "      <td>2065.482529</td>\n",
       "      <td>497.107790</td>\n",
       "      <td>457.430427</td>\n",
       "      <td>1577.506205</td>\n",
       "      <td>1659.197738</td>\n",
       "      <td>186.854577</td>\n",
       "      <td>978.340107</td>\n",
       "      <td>1943.304912</td>\n",
       "    </tr>\n",
       "    <tr>\n",
       "      <th>998</th>\n",
       "      <td>1157.069348</td>\n",
       "      <td>602.749160</td>\n",
       "      <td>1548.809995</td>\n",
       "      <td>646.809528</td>\n",
       "      <td>1335.737820</td>\n",
       "      <td>1455.504390</td>\n",
       "      <td>2788.366441</td>\n",
       "      <td>552.388107</td>\n",
       "      <td>1264.818079</td>\n",
       "      <td>1331.879020</td>\n",
       "    </tr>\n",
       "    <tr>\n",
       "      <th>999</th>\n",
       "      <td>1287.150025</td>\n",
       "      <td>1303.600085</td>\n",
       "      <td>2247.287535</td>\n",
       "      <td>664.362479</td>\n",
       "      <td>1132.682562</td>\n",
       "      <td>991.774941</td>\n",
       "      <td>2007.676371</td>\n",
       "      <td>251.916948</td>\n",
       "      <td>846.167511</td>\n",
       "      <td>952.895751</td>\n",
       "    </tr>\n",
       "  </tbody>\n",
       "</table>\n",
       "<p>1000 rows × 10 columns</p>\n",
       "</div>"
      ],
      "text/plain": [
       "            XVPM         GWYH         TRAT        TLLZ         IGGA  \\\n",
       "0    1636.670614   817.988525  2565.995189  358.347163   550.417491   \n",
       "1    1013.402760   577.587332  2644.141273  280.428203  1161.873391   \n",
       "2    1300.035501   820.518697  2025.854469  525.562292   922.206261   \n",
       "3    1059.347542  1066.866418   612.000041  480.827789   419.467495   \n",
       "4    1018.340526  1313.679056   950.622661  724.742174   843.065903   \n",
       "..           ...          ...          ...         ...          ...   \n",
       "995  1343.060600  1289.142057   407.307449  567.564764  1000.953905   \n",
       "996   938.847057  1142.884331  2096.064295  483.242220   522.755771   \n",
       "997   921.994822   607.996901  2065.482529  497.107790   457.430427   \n",
       "998  1157.069348   602.749160  1548.809995  646.809528  1335.737820   \n",
       "999  1287.150025  1303.600085  2247.287535  664.362479  1132.682562   \n",
       "\n",
       "            HYKR         EDFS        GUUB         MGJM         JHZC  \n",
       "0    1618.870897  2147.641254  330.727893  1494.878631   845.136088  \n",
       "1    2084.107872   853.404981  447.157619  1193.032521   861.081809  \n",
       "2    2552.355407   818.676686  845.491492  1968.367513  1647.186291  \n",
       "3     685.666983   852.867810  341.664784  1154.391368  1450.935357  \n",
       "4    1370.554164   905.469453  658.118202   539.459350  1899.850792  \n",
       "..           ...          ...         ...          ...          ...  \n",
       "995   919.602401   485.269059  668.007397  1124.772996  2127.628290  \n",
       "996  1703.169782  2007.548635  533.514816   379.264597   567.200545  \n",
       "997  1577.506205  1659.197738  186.854577   978.340107  1943.304912  \n",
       "998  1455.504390  2788.366441  552.388107  1264.818079  1331.879020  \n",
       "999   991.774941  2007.676371  251.916948   846.167511   952.895751  \n",
       "\n",
       "[1000 rows x 10 columns]"
      ]
     },
     "execution_count": 11,
     "metadata": {},
     "output_type": "execute_result"
    }
   ],
   "source": [
    "x=df.drop('TARGET CLASS', axis=1)\n",
    "x"
   ]
  },
  {
   "cell_type": "code",
   "execution_count": 12,
   "metadata": {},
   "outputs": [
    {
     "data": {
      "text/plain": [
       "0      0\n",
       "1      1\n",
       "2      1\n",
       "3      0\n",
       "4      0\n",
       "      ..\n",
       "995    0\n",
       "996    1\n",
       "997    1\n",
       "998    1\n",
       "999    1\n",
       "Name: TARGET CLASS, Length: 1000, dtype: int64"
      ]
     },
     "execution_count": 12,
     "metadata": {},
     "output_type": "execute_result"
    }
   ],
   "source": [
    "y=df['TARGET CLASS']\n",
    "y"
   ]
  },
  {
   "cell_type": "code",
   "execution_count": 17,
   "metadata": {},
   "outputs": [],
   "source": [
    "from sklearn.model_selection import train_test_split"
   ]
  },
  {
   "cell_type": "code",
   "execution_count": 18,
   "metadata": {},
   "outputs": [],
   "source": [
    "X_train, X_test, y_train, y_test = train_test_split(x, y, test_size=0.30, random_state=42)"
   ]
  },
  {
   "cell_type": "code",
   "execution_count": 19,
   "metadata": {},
   "outputs": [],
   "source": [
    "from sklearn.preprocessing import StandardScaler"
   ]
  },
  {
   "cell_type": "code",
   "execution_count": 20,
   "metadata": {},
   "outputs": [],
   "source": [
    "sc=StandardScaler()"
   ]
  },
  {
   "cell_type": "code",
   "execution_count": 21,
   "metadata": {},
   "outputs": [],
   "source": [
    "X_train=sc.fit_transform(X_train)"
   ]
  },
  {
   "cell_type": "code",
   "execution_count": 22,
   "metadata": {},
   "outputs": [],
   "source": [
    "X_test=sc.transform(X_test)\n"
   ]
  },
  {
   "cell_type": "code",
   "execution_count": 25,
   "metadata": {},
   "outputs": [],
   "source": [
    "X_train=pd.DataFrame(X_train, columns=x.columns)"
   ]
  },
  {
   "cell_type": "code",
   "execution_count": 26,
   "metadata": {},
   "outputs": [],
   "source": [
    "X_test=pd.DataFrame(X_test, columns=x.columns)"
   ]
  },
  {
   "cell_type": "code",
   "execution_count": 27,
   "metadata": {},
   "outputs": [
    {
     "name": "stdout",
     "output_type": "stream",
     "text": [
      "(700, 10)\n",
      "(300, 10)\n",
      "(700,)\n",
      "(300,)\n"
     ]
    }
   ],
   "source": [
    "print(X_train.shape) \n",
    "print(X_test.shape) \n",
    "print(y_train.shape) \n",
    "print(y_test.shape)"
   ]
  },
  {
   "cell_type": "code",
   "execution_count": null,
   "metadata": {},
   "outputs": [],
   "source": []
  },
  {
   "cell_type": "code",
   "execution_count": 28,
   "metadata": {},
   "outputs": [
    {
     "data": {
      "text/html": [
       "<div>\n",
       "<style scoped>\n",
       "    .dataframe tbody tr th:only-of-type {\n",
       "        vertical-align: middle;\n",
       "    }\n",
       "\n",
       "    .dataframe tbody tr th {\n",
       "        vertical-align: top;\n",
       "    }\n",
       "\n",
       "    .dataframe thead th {\n",
       "        text-align: right;\n",
       "    }\n",
       "</style>\n",
       "<table border=\"1\" class=\"dataframe\">\n",
       "  <thead>\n",
       "    <tr style=\"text-align: right;\">\n",
       "      <th></th>\n",
       "      <th>XVPM</th>\n",
       "      <th>GWYH</th>\n",
       "      <th>TRAT</th>\n",
       "      <th>TLLZ</th>\n",
       "      <th>IGGA</th>\n",
       "      <th>HYKR</th>\n",
       "      <th>EDFS</th>\n",
       "      <th>GUUB</th>\n",
       "      <th>MGJM</th>\n",
       "      <th>JHZC</th>\n",
       "    </tr>\n",
       "  </thead>\n",
       "  <tbody>\n",
       "    <tr>\n",
       "      <th>0</th>\n",
       "      <td>-1.594010</td>\n",
       "      <td>0.584541</td>\n",
       "      <td>-0.680589</td>\n",
       "      <td>0.885079</td>\n",
       "      <td>-0.331101</td>\n",
       "      <td>0.287269</td>\n",
       "      <td>-1.326559</td>\n",
       "      <td>0.583467</td>\n",
       "      <td>0.352073</td>\n",
       "      <td>1.651636</td>\n",
       "    </tr>\n",
       "    <tr>\n",
       "      <th>1</th>\n",
       "      <td>-1.478875</td>\n",
       "      <td>0.111455</td>\n",
       "      <td>-1.487069</td>\n",
       "      <td>0.478673</td>\n",
       "      <td>0.632534</td>\n",
       "      <td>-0.067932</td>\n",
       "      <td>1.287428</td>\n",
       "      <td>0.768341</td>\n",
       "      <td>1.248123</td>\n",
       "      <td>-0.786333</td>\n",
       "    </tr>\n",
       "    <tr>\n",
       "      <th>2</th>\n",
       "      <td>0.018348</td>\n",
       "      <td>1.832448</td>\n",
       "      <td>-0.340968</td>\n",
       "      <td>0.687772</td>\n",
       "      <td>1.152013</td>\n",
       "      <td>-0.923793</td>\n",
       "      <td>-0.521554</td>\n",
       "      <td>0.272773</td>\n",
       "      <td>0.089718</td>\n",
       "      <td>-2.203299</td>\n",
       "    </tr>\n",
       "    <tr>\n",
       "      <th>3</th>\n",
       "      <td>0.534513</td>\n",
       "      <td>0.331759</td>\n",
       "      <td>0.633546</td>\n",
       "      <td>0.190957</td>\n",
       "      <td>1.626781</td>\n",
       "      <td>0.501702</td>\n",
       "      <td>-0.078628</td>\n",
       "      <td>1.048279</td>\n",
       "      <td>-1.532975</td>\n",
       "      <td>-1.883207</td>\n",
       "    </tr>\n",
       "    <tr>\n",
       "      <th>4</th>\n",
       "      <td>-0.737274</td>\n",
       "      <td>-0.244397</td>\n",
       "      <td>0.577852</td>\n",
       "      <td>1.081180</td>\n",
       "      <td>0.667223</td>\n",
       "      <td>1.370688</td>\n",
       "      <td>-0.757630</td>\n",
       "      <td>0.664345</td>\n",
       "      <td>-0.087544</td>\n",
       "      <td>-1.752222</td>\n",
       "    </tr>\n",
       "  </tbody>\n",
       "</table>\n",
       "</div>"
      ],
      "text/plain": [
       "       XVPM      GWYH      TRAT      TLLZ      IGGA      HYKR      EDFS  \\\n",
       "0 -1.594010  0.584541 -0.680589  0.885079 -0.331101  0.287269 -1.326559   \n",
       "1 -1.478875  0.111455 -1.487069  0.478673  0.632534 -0.067932  1.287428   \n",
       "2  0.018348  1.832448 -0.340968  0.687772  1.152013 -0.923793 -0.521554   \n",
       "3  0.534513  0.331759  0.633546  0.190957  1.626781  0.501702 -0.078628   \n",
       "4 -0.737274 -0.244397  0.577852  1.081180  0.667223  1.370688 -0.757630   \n",
       "\n",
       "       GUUB      MGJM      JHZC  \n",
       "0  0.583467  0.352073  1.651636  \n",
       "1  0.768341  1.248123 -0.786333  \n",
       "2  0.272773  0.089718 -2.203299  \n",
       "3  1.048279 -1.532975 -1.883207  \n",
       "4  0.664345 -0.087544 -1.752222  "
      ]
     },
     "execution_count": 28,
     "metadata": {},
     "output_type": "execute_result"
    }
   ],
   "source": [
    "X_train.head()"
   ]
  },
  {
   "cell_type": "code",
   "execution_count": 29,
   "metadata": {},
   "outputs": [],
   "source": [
    "from sklearn.neighbors import KNeighborsClassifier"
   ]
  },
  {
   "cell_type": "code",
   "execution_count": null,
   "metadata": {},
   "outputs": [],
   "source": []
  },
  {
   "cell_type": "code",
   "execution_count": 30,
   "metadata": {},
   "outputs": [],
   "source": [
    "error_rate=[]\n",
    "for i in range (1,50):\n",
    "    knn_clas=KNeighborsClassifier(n_neighbors=i)\n",
    "    knn_clas.fit(X_train,y_train)\n",
    "    y_pred_i=knn_clas.predict(X_test)\n",
    "    error_rate.append(np.mean(y_pred_i != y_test))"
   ]
  },
  {
   "cell_type": "code",
   "execution_count": 31,
   "metadata": {},
   "outputs": [
    {
     "data": {
      "image/png": "[encoded data removed]",
      "text/plain": [
       "<Figure size 576x360 with 1 Axes>"
      ]
     },
     "metadata": {
      "needs_background": "light"
     },
     "output_type": "display_data"
    }
   ],
   "source": [
    "plt.figure(figsize=(8,5))\n",
    "plt.plot(range(1,50),error_rate,linestyle='--',color=\"red\",marker='*')\n",
    "plt.xlabel('value of k',color=\"blue\",size=15)\n",
    "plt.ylabel('Error Rate',color=\"blue\",size=15)\n",
    "plt.title('Error Rate vs K value', color=\"red\")\n",
    "plt.show()"
   ]
  },
  {
   "cell_type": "code",
   "execution_count": 32,
   "metadata": {},
   "outputs": [],
   "source": [
    "knc=KNeighborsClassifier(n_neighbors=30)"
   ]
  },
  {
   "cell_type": "code",
   "execution_count": 33,
   "metadata": {},
   "outputs": [
    {
     "data": {
      "text/plain": [
       "KNeighborsClassifier(n_neighbors=30)"
      ]
     },
     "execution_count": 33,
     "metadata": {},
     "output_type": "execute_result"
    }
   ],
   "source": [
    "knc.fit(X_train, y_train)"
   ]
  },
  {
   "cell_type": "code",
   "execution_count": 34,
   "metadata": {},
   "outputs": [
    {
     "data": {
      "text/plain": [
       "0.8433333333333334"
      ]
     },
     "execution_count": 34,
     "metadata": {},
     "output_type": "execute_result"
    }
   ],
   "source": [
    "knc.score(X_test,y_test)"
   ]
  },
  {
   "cell_type": "code",
   "execution_count": 35,
   "metadata": {},
   "outputs": [],
   "source": [
    "y_pred=knc.predict(X_test)"
   ]
  },
  {
   "cell_type": "code",
   "execution_count": 36,
   "metadata": {},
   "outputs": [],
   "source": [
    "from sklearn.metrics import accuracy_score,classification_report,confusion_matrix"
   ]
  },
  {
   "cell_type": "code",
   "execution_count": 37,
   "metadata": {},
   "outputs": [
    {
     "name": "stdout",
     "output_type": "stream",
     "text": [
      "Accuracy Score: 0.8433333333333334\n"
     ]
    }
   ],
   "source": [
    "print('Accuracy Score:', accuracy_score(y_pred, y_test))"
   ]
  },
  {
   "cell_type": "code",
   "execution_count": 38,
   "metadata": {},
   "outputs": [
    {
     "name": "stdout",
     "output_type": "stream",
     "text": [
      "              precision    recall  f1-score   support\n",
      "\n",
      "           0       0.82      0.87      0.84       146\n",
      "           1       0.87      0.82      0.84       154\n",
      "\n",
      "    accuracy                           0.84       300\n",
      "   macro avg       0.84      0.84      0.84       300\n",
      "weighted avg       0.84      0.84      0.84       300\n",
      "\n"
     ]
    }
   ],
   "source": [
    "print(classification_report(y_test,y_pred))"
   ]
  },
  {
   "cell_type": "code",
   "execution_count": 39,
   "metadata": {},
   "outputs": [],
   "source": [
    "confu_mat=confusion_matrix(y_test,y_pred)"
   ]
  },
  {
   "cell_type": "code",
   "execution_count": 40,
   "metadata": {},
   "outputs": [
    {
     "name": "stdout",
     "output_type": "stream",
     "text": [
      "[[127  19]\n",
      " [ 28 126]]\n"
     ]
    }
   ],
   "source": [
    "print(confu_mat)"
   ]
  },
  {
   "cell_type": "code",
   "execution_count": 41,
   "metadata": {},
   "outputs": [
    {
     "data": {
      "image/png": "[encoded data removed]",
      "text/plain": [
       "<Figure size 360x360 with 1 Axes>"
      ]
     },
     "metadata": {
      "needs_background": "light"
     },
     "output_type": "display_data"
    }
   ],
   "source": [
    "fig, ax = plt.subplots(figsize=(5, 5))\n",
    "ax.imshow(confu_mat)\n",
    "ax.grid(False)\n",
    "ax.xaxis.set(ticks=(0, 1), ticklabels=('Predicted 0s', 'Predicted 1s'))\n",
    "ax.yaxis.set(ticks=(0, 1), ticklabels=('Actual 0s', 'Actual 1s'))\n",
    "ax.set_ylim(1.5, -0.5)\n",
    "for i in range(2):\n",
    "    for j in range(2):\n",
    "        ax.text(j, i, confu_mat[i, j], ha='center', va='center', color='red',size=25)\n",
    "plt.show()"
   ]
  },
  {
   "cell_type": "code",
   "execution_count": null,
   "metadata": {},
   "outputs": [],
   "source": []
  },
  {
   "cell_type": "code",
   "execution_count": null,
   "metadata": {},
   "outputs": [],
   "source": []
  },
  {
   "cell_type": "code",
   "execution_count": null,
   "metadata": {},
   "outputs": [],
   "source": []
  },
  {
   "cell_type": "code",
   "execution_count": null,
   "metadata": {},
   "outputs": [],
   "source": []
  },
  {
   "cell_type": "code",
   "execution_count": null,
   "metadata": {},
   "outputs": [],
   "source": []
  },
  {
   "cell_type": "code",
   "execution_count": null,
   "metadata": {},
   "outputs": [],
   "source": []
  },
  {
   "cell_type": "code",
   "execution_count": null,
   "metadata": {},
   "outputs": [],
   "source": []
  },
  {
   "cell_type": "code",
   "execution_count": null,
   "metadata": {},
   "outputs": [],
   "source": []
  },
  {
   "cell_type": "code",
   "execution_count": null,
   "metadata": {},
   "outputs": [],
   "source": []
  },
  {
   "cell_type": "code",
   "execution_count": null,
   "metadata": {},
   "outputs": [],
   "source": []
  },
  {
   "cell_type": "code",
   "execution_count": null,
   "metadata": {},
   "outputs": [],
   "source": []
  },
  {
   "cell_type": "code",
   "execution_count": null,
   "metadata": {},
   "outputs": [],
   "source": []
  },
  {
   "cell_type": "code",
   "execution_count": null,
   "metadata": {},
   "outputs": [],
   "source": []
  },
  {
   "cell_type": "code",
   "execution_count": null,
   "metadata": {},
   "outputs": [],
   "source": []
  },
  {
   "cell_type": "code",
   "execution_count": null,
   "metadata": {},
   "outputs": [],
   "source": []
  },
  {
   "cell_type": "code",
   "execution_count": null,
   "metadata": {},
   "outputs": [],
   "source": []
  },
  {
   "cell_type": "code",
   "execution_count": null,
   "metadata": {},
   "outputs": [],
   "source": []
  },
  {
   "cell_type": "code",
   "execution_count": null,
   "metadata": {},
   "outputs": [],
   "source": []
  },
  {
   "cell_type": "code",
   "execution_count": null,
   "metadata": {},
   "outputs": [],
   "source": []
  },
  {
   "cell_type": "code",
   "execution_count": null,
   "metadata": {},
   "outputs": [],
   "source": []
  },
  {
   "cell_type": "code",
   "execution_count": null,
   "metadata": {},
   "outputs": [],
   "source": []
  },
  {
   "cell_type": "code",
   "execution_count": null,
   "metadata": {},
   "outputs": [],
   "source": []
  },
  {
   "cell_type": "code",
   "execution_count": null,
   "metadata": {},
   "outputs": [],
   "source": []
  },
  {
   "cell_type": "code",
   "execution_count": null,
   "metadata": {},
   "outputs": [],
   "source": []
  },
  {
   "cell_type": "code",
   "execution_count": null,
   "metadata": {},
   "outputs": [],
   "source": []
  },
  {
   "cell_type": "code",
   "execution_count": null,
   "metadata": {},
   "outputs": [],
   "source": []
  },
  {
   "cell_type": "code",
   "execution_count": null,
   "metadata": {},
   "outputs": [],
   "source": []
  },
  {
   "cell_type": "code",
   "execution_count": null,
   "metadata": {},
   "outputs": [],
   "source": []
  },
  {
   "cell_type": "code",
   "execution_count": null,
   "metadata": {},
   "outputs": [],
   "source": []
  },
  {
   "cell_type": "code",
   "execution_count": null,
   "metadata": {},
   "outputs": [],
   "source": []
  },
  {
   "cell_type": "code",
   "execution_count": null,
   "metadata": {},
   "outputs": [],
   "source": []
  },
  {
   "cell_type": "code",
   "execution_count": null,
   "metadata": {},
   "outputs": [],
   "source": []
  },
  {
   "cell_type": "code",
   "execution_count": null,
   "metadata": {},
   "outputs": [],
   "source": []
  },
  {
   "cell_type": "code",
   "execution_count": null,
   "metadata": {},
   "outputs": [],
   "source": []
  },
  {
   "cell_type": "code",
   "execution_count": null,
   "metadata": {},
   "outputs": [],
   "source": []
  },
  {
   "cell_type": "code",
   "execution_count": null,
   "metadata": {},
   "outputs": [],
   "source": []
  },
  {
   "cell_type": "code",
   "execution_count": null,
   "metadata": {},
   "outputs": [],
   "source": []
  }
 ],
 "metadata": {
  "kernelspec": {
   "display_name": "Python 3",
   "language": "python",
   "name": "python3"
  },
  "language_info": {
   "codemirror_mode": {
    "name": "ipython",
    "version": 3
   },
   "file_extension": ".py",
   "mimetype": "text/x-python",
   "name": "python",
   "nbconvert_exporter": "python",
   "pygments_lexer": "ipython3",
   "version": "3.8.5"
  }
 },
 "nbformat": 4,
 "nbformat_minor": 4
}
